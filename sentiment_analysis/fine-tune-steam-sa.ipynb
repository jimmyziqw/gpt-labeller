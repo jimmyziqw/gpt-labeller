{
 "cells": [
  {
   "cell_type": "code",
   "execution_count": null,
   "metadata": {},
   "outputs": [],
   "source": [
    "import json\n",
    "import warnings\n",
    "\n",
    "# suppress display of warnings\n",
    "warnings.filterwarnings('ignore')\n",
    "with open(\"code/dataset/train_data.json\", \"r\") as f:\n",
    "    train_data = json.load(f)\n",
    "\n",
    "with open(\"code/dataset/test_data.json\", \"r\") as f:\n",
    "    test_data = json.load(f)\n",
    "\n",
    "print(len(train_data))\n"
   ]
  },
  {
   "cell_type": "code",
   "execution_count": null,
   "metadata": {},
   "outputs": [],
   "source": [
    "import os\n",
    "import numpy as np\n",
    "import pandas as pd\n",
    "import sagemaker\n",
    "\n",
    "# Provides a collection of methods for working with SageMaker resources\n",
    "sagemaker_session = sagemaker.Session()\n",
    "\n",
    "bucket = sagemaker_session.default_bucket()\n",
    "prefix = \"sagemaker/DEMO-steam-sa\"\n",
    "region = sagemaker_session.boto_session.region_name\n",
    "role = sagemaker.get_execution_role()\n"
   ]
  },
  {
   "cell_type": "code",
   "execution_count": null,
   "metadata": {},
   "outputs": [],
   "source": [
    "inputs_train = sagemaker_session.upload_data(\n",
    "    \"code/dataset/train_data.json\", bucket=bucket, key_prefix=prefix)\n",
    "inputs_test = sagemaker_session.upload_data(\n",
    "    \"code/dataset/test_data.json\", bucket=bucket, key_prefix=prefix)\n"
   ]
  },
  {
   "cell_type": "code",
   "execution_count": null,
   "metadata": {},
   "outputs": [],
   "source": [
    "from sagemaker.pytorch import PyTorch\n",
    "from sagemaker.huggingface import HuggingFace\n",
    "\n",
    "# 1. Defining the estimator\n",
    "\n",
    "estimator = PyTorch(entry_point=\"train.py\",\n",
    "                    source_dir=\"code\",\n",
    "                    role=role,\n",
    "                    framework_version=\"1.9\",\n",
    "                    py_version=\"py38\",\n",
    "                    instance_count=1,\n",
    "                    # Type of instance we want the training to happen\n",
    "                    instance_type=\"ml.m5.xlarge\",\n",
    "                    hyperparameters={\"epochs\": 2,\n",
    "                                     \"num_labels\": 2,\n",
    "                                     }\n",
    "                    )\n",
    "\n",
    "estimator.fit({\"training\": inputs_train, \"testing\": inputs_test})\n"
   ]
  },
  {
   "cell_type": "code",
   "execution_count": null,
   "metadata": {},
   "outputs": [],
   "source": []
  }
 ],
 "metadata": {
  "language_info": {
   "name": "python"
  },
  "orig_nbformat": 4
 },
 "nbformat": 4,
 "nbformat_minor": 2
}
